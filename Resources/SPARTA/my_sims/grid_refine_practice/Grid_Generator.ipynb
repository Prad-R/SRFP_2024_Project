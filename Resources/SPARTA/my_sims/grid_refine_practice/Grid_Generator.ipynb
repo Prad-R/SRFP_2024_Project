{
 "cells": [
  {
   "cell_type": "code",
   "execution_count": 2,
   "metadata": {},
   "outputs": [],
   "source": [
    "import numpy as np"
   ]
  },
  {
   "cell_type": "code",
   "execution_count": 8,
   "metadata": {},
   "outputs": [],
   "source": [
    "x_cells = 300\n",
    "y_cells = 200\n",
    "levels = 1"
   ]
  },
  {
   "cell_type": "code",
   "execution_count": 10,
   "metadata": {},
   "outputs": [],
   "source": [
    "with open('grid.txt', 'w') as file:\n",
    "    file.write(\"# Grid file of cell IDs to be read by SPARTA\\n\")\n",
    "\n",
    "    file.write(f\"\\n{x_cells * y_cells} cells\\n\")\n",
    "    file.write(f\"{levels} levels\\n\")\n",
    "    file.write(f\"{x_cells} {y_cells} 1 level-1\\n\")\n",
    "\n",
    "    file.write(\"\\nCells\\n\")\n",
    "\n",
    "    for cell in range(x_cells * y_cells):\n",
    "        file.write(f\"\\n{cell + 1}\")"
   ]
  },
  {
   "cell_type": "code",
   "execution_count": null,
   "metadata": {},
   "outputs": [],
   "source": []
  }
 ],
 "metadata": {
  "kernelspec": {
   "display_name": "Python 3",
   "language": "python",
   "name": "python3"
  },
  "language_info": {
   "codemirror_mode": {
    "name": "ipython",
    "version": 3
   },
   "file_extension": ".py",
   "mimetype": "text/x-python",
   "name": "python",
   "nbconvert_exporter": "python",
   "pygments_lexer": "ipython3",
   "version": "3.10.12"
  }
 },
 "nbformat": 4,
 "nbformat_minor": 2
}
