{
 "cells": [
  {
   "cell_type": "code",
   "execution_count": 4,
   "metadata": {},
   "outputs": [],
   "source": [
    "import pandas as pd\n",
    "import numpy as np\n",
    "import matplotlib.pyplot as plt\n",
    "import os\n",
    "import csv\n",
    "import re"
   ]
  },
  {
   "cell_type": "markdown",
   "metadata": {},
   "source": [
    "## Extracting data from grid files into .csv files"
   ]
  },
  {
   "cell_type": "code",
   "execution_count": 5,
   "metadata": {},
   "outputs": [],
   "source": [
    "particles = {}\n",
    "temperature = {}\n",
    "\n",
    "directory = 'grid_files'\n",
    "\n",
    "particle_files = []\n",
    "temperature_files = []\n",
    "step_size = 1.0e5\n",
    "\n",
    "##################################################################\n",
    "## Adding particle and temperature grid files to separate lists ##\n",
    "##################################################################\n",
    "\n",
    "for filename in os.listdir(directory):\n",
    "    if re.match('particles.*.grid', filename):\n",
    "        particle_files.append(os.path.join(directory, filename))\n",
    "\n",
    "    if re.match('temp.*.grid', filename):\n",
    "        temperature_files.append(os.path.join(directory, filename))\n",
    "\n",
    "###################################################################\n",
    "## Creating a dictionary of particle file data ####################\n",
    "###################################################################\n",
    "\n",
    "for particle_file in particle_files:\n",
    "    particle_file_index = int(re.findall('\\d{1,9}', particle_file)[0])\n",
    "\n",
    "    with open(particle_file) as f:\n",
    "        j = 1\n",
    "        temp = {}\n",
    "\n",
    "        for line in f:\n",
    "            line = line.replace(' \\n', '', 1)\n",
    "            temp[j] = line\n",
    "            j+=1\n",
    "\n",
    "    particles[particle_file_index] = temp\n",
    "\n",
    "###################################################################\n",
    "## Creating a dictionary of temperature file data #################\n",
    "###################################################################\n",
    "\n",
    "for temperature_file in temperature_files:\n",
    "    temperature_file_index = int(re.findall('\\d{1,9}', temperature_file)[0])\n",
    "\n",
    "    with open(temperature_file) as f:\n",
    "        j = 1\n",
    "        temp = {}\n",
    "\n",
    "        for line in f:\n",
    "            line = line.replace(' \\n', '', 1)\n",
    "            temp[j] = line\n",
    "            j+=1\n",
    "\n",
    "    temperature[temperature_file_index] = temp\n",
    "\n",
    "###################################################################\n",
    "## Sorting the dictionary file items in ascending order of keys ###\n",
    "###################################################################\n",
    "\n",
    "particles = dict(sorted(particles.items()))\n",
    "temperature = dict(sorted(temperature.items()))"
   ]
  },
  {
   "cell_type": "code",
   "execution_count": 6,
   "metadata": {},
   "outputs": [],
   "source": [
    "########################################################################\n",
    "## Writes particle data row-wise into a .csv file ######################\n",
    "## Each row contains the particle data of a particular time step #######\n",
    "########################################################################\n",
    "\n",
    "with open('Particles.csv', 'w') as file:\n",
    "    writer = csv.writer(file)\n",
    "\n",
    "    for time_step in particles.keys():\n",
    "        writer.writerow(particles[time_step].values())\n",
    "\n",
    "########################################################################\n",
    "## Writes tmeperature data row-wise into a .csv file ###################\n",
    "## Each row contains the tempearture data of a particular time step ####\n",
    "########################################################################\n",
    "\n",
    "with open('Temperature.csv', 'w') as file:\n",
    "    writer = csv.writer(file)\n",
    "\n",
    "    for time_step in temperature.keys():\n",
    "        writer.writerow(temperature[time_step].values())"
   ]
  }
 ],
 "metadata": {
  "kernelspec": {
   "display_name": "Python 3",
   "language": "python",
   "name": "python3"
  },
  "language_info": {
   "codemirror_mode": {
    "name": "ipython",
    "version": 3
   },
   "file_extension": ".py",
   "mimetype": "text/x-python",
   "name": "python",
   "nbconvert_exporter": "python",
   "pygments_lexer": "ipython3",
   "version": "3.10.12"
  }
 },
 "nbformat": 4,
 "nbformat_minor": 2
}
