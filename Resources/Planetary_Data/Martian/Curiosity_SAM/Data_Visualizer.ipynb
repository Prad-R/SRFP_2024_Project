{
 "cells": [
  {
   "cell_type": "code",
   "execution_count": 1,
   "metadata": {},
   "outputs": [],
   "source": [
    "import matplotlib.pyplot as plt\n",
    "import pandas as pd\n",
    "import os # for operating on directories\n",
    "import re # for regex"
   ]
  },
  {
   "cell_type": "code",
   "execution_count": 14,
   "metadata": {},
   "outputs": [],
   "source": [
    "def extract_and_plot(root, file):\n",
    "    path_to_file = os.path.join(root + r'/' + file)\n",
    "    data = pd.read_csv(path_to_file)\n",
    "\n",
    "    eid_regex = re.compile(r'eid\\d{5}')\n",
    "    eid = re.findall(eid_regex, path_to_file)[0].upper()\n",
    "\n",
    "    columns = data.columns\n",
    "\n",
    "    print(\"------------- Plotting ----------------- \" + eid)\n",
    "\n",
    "    plt.figure(figsize = (12, 9))\n",
    "    plt.ioff()\n",
    "    plt.barh(data[columns[0]], data[columns[1]], color = 'b', height = 0.4)\n",
    "    plt.ylabel(columns[0] + \"$\\\\longrightarrow$\", fontsize = 15)\n",
    "    plt.xlabel(columns[1] + \"$\\\\longrightarrow$\", fontsize = 15)\n",
    "    plt.xticks([i/20 for i in range(21)])\n",
    "    plt.grid()\n",
    "    plt.title(eid, fontsize = 21)\n",
    "    plt.savefig(root + '/' + eid + '.png')"
   ]
  },
  {
   "cell_type": "code",
   "execution_count": 15,
   "metadata": {},
   "outputs": [
    {
     "name": "stdout",
     "output_type": "stream",
     "text": [
      "------------- Plotting ----------------- EID25692\n",
      "------------- Plotting ----------------- EID25476\n",
      "------------- Plotting ----------------- EID25409\n",
      "------------- Plotting ----------------- EID25372\n",
      "------------- Plotting ----------------- EID25562\n",
      "------------- Plotting ----------------- EID25725\n",
      "------------- Plotting ----------------- EID25475\n",
      "------------- Plotting ----------------- EID25343\n",
      "------------- Plotting ----------------- EID25440\n",
      "------------- Plotting ----------------- EID25395\n",
      "------------- Plotting ----------------- EID25682\n",
      "------------- Plotting ----------------- EID25617\n",
      "------------- Plotting ----------------- EID25172\n",
      "------------- Plotting ----------------- EID25715\n",
      "------------- Plotting ----------------- EID25301\n",
      "------------- Plotting ----------------- EID25346\n",
      "------------- Plotting ----------------- EID25674\n",
      "------------- Plotting ----------------- EID25337\n",
      "------------- Plotting ----------------- EID25574\n",
      "------------- Plotting ----------------- EID25195\n",
      "------------- Plotting ----------------- EID25625\n",
      "------------- Plotting ----------------- EID25733\n",
      "------------- Plotting ----------------- EID25593\n",
      "------------- Plotting ----------------- EID25488\n",
      "------------- Plotting ----------------- EID25217\n",
      "------------- Plotting ----------------- EID25232\n",
      "------------- Plotting ----------------- EID25646\n",
      "------------- Plotting ----------------- EID25698\n",
      "------------- Plotting ----------------- EID25656\n",
      "-------------- Plotted All ----------------\n"
     ]
    }
   ],
   "source": [
    "for (root, dirs, files) in os.walk('.', topdown = True):\n",
    "    file_regex = re.compile(r'sm\\d{5}.*$')\n",
    "\n",
    "    for file in files:\n",
    "        if re.search(file_regex, file):\n",
    "            extract_and_plot(root, file)\n",
    "\n",
    "print(\"-------------- Plotted All ----------------\")"
   ]
  }
 ],
 "metadata": {
  "kernelspec": {
   "display_name": "Python 3",
   "language": "python",
   "name": "python3"
  },
  "language_info": {
   "codemirror_mode": {
    "name": "ipython",
    "version": 3
   },
   "file_extension": ".py",
   "mimetype": "text/x-python",
   "name": "python",
   "nbconvert_exporter": "python",
   "pygments_lexer": "ipython3",
   "version": "3.8.10"
  }
 },
 "nbformat": 4,
 "nbformat_minor": 2
}
